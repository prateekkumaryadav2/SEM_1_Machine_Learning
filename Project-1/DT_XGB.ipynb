{
  "cells": [
    {
      "cell_type": "code",
      "execution_count": null,
      "metadata": {
        "id": "N5M4gACmGN1a"
      },
      "outputs": [],
      "source": [
        "# Preprocessing\n",
        "X = train_df.drop(\"WeightCategory\", axis=1)\n",
        "y = train_df[\"WeightCategory\"]\n",
        "le = LabelEncoder()\n",
        "y_encoded = le.fit_transform(y)\n",
        "\n",
        "categorical_features = X.select_dtypes(include=['object']).columns\n",
        "numerical_features = X.select_dtypes(include=['int64', 'float64']).drop('id', axis=1).columns\n",
        "\n",
        "preprocessor = ColumnTransformer(\n",
        "    transformers=[\n",
        "        ('num', StandardScaler(), numerical_features),\n",
        "        ('cat', OneHotEncoder(handle_unknown='ignore'), categorical_features)\n",
        "    ],\n",
        "    remainder='drop'\n",
        ")"
      ]
    },
    {
      "cell_type": "markdown",
      "metadata": {
        "id": "Juv2fJ23GvML"
      },
      "source": [
        "###Decision Tree"
      ]
    },
    {
      "cell_type": "code",
      "execution_count": null,
      "metadata": {
        "colab": {
          "base_uri": "https://localhost:8080/"
        },
        "id": "q69NT9-9ClFk",
        "outputId": "6c3db920-19d7-400d-f9fa-a09e3b5f3c8c"
      },
      "outputs": [
        {
          "name": "stdout",
          "output_type": "stream",
          "text": [
            "--- Step 1: Baseline Decision Tree ---\n",
            "Validation Accuracy: 0.8378\n",
            "\n",
            "                     precision    recall  f1-score   support\n",
            "\n",
            "Insufficient_Weight       0.86      0.89      0.88       374\n",
            "      Normal_Weight       0.78      0.78      0.78       469\n",
            "     Obesity_Type_I       0.80      0.80      0.80       441\n",
            "    Obesity_Type_II       0.93      0.93      0.93       481\n",
            "   Obesity_Type_III       0.99      1.00      0.99       597\n",
            " Overweight_Level_I       0.69      0.63      0.66       369\n",
            "Overweight_Level_II       0.70      0.74      0.72       376\n",
            "\n",
            "           accuracy                           0.84      3107\n",
            "          macro avg       0.82      0.82      0.82      3107\n",
            "       weighted avg       0.84      0.84      0.84      3107\n",
            "\n"
          ]
        }
      ],
      "source": [
        "# --- Build and Evaluate ---\n",
        "X_train, X_val, y_train, y_val = train_test_split(X, y_encoded, test_size=0.2, random_state=42, stratify=y_encoded)\n",
        "model_pipeline = Pipeline(steps=[('preprocessor', preprocessor),\n",
        "                                 ('classifier', DecisionTreeClassifier(random_state=42))])\n",
        "model_pipeline.fit(X_train, y_train)\n",
        "y_pred = model_pipeline.predict(X_val)\n",
        "accuracy = accuracy_score(y_val, y_pred)\n",
        "\n",
        "print(f\"--- Step 1: Baseline Decision Tree ---\")\n",
        "print(f\"Validation Accuracy: {accuracy:.4f}\\n\")\n",
        "print(classification_report(y_val, y_pred, target_names=le.classes_))"
      ]
    },
    {
      "cell_type": "markdown",
      "metadata": {
        "id": "85PUXa9HGqJi"
      },
      "source": [
        "###XGBoost"
      ]
    },
    {
      "cell_type": "code",
      "execution_count": null,
      "metadata": {
        "colab": {
          "base_uri": "https://localhost:8080/"
        },
        "id": "5ZoWUiVszHoR",
        "outputId": "d9c964ef-2e9a-40b5-aeb5-921ed1ae6d49"
      },
      "outputs": [
        {
          "name": "stderr",
          "output_type": "stream",
          "text": [
            "/usr/local/lib/python3.12/dist-packages/xgboost/training.py:183: UserWarning: [13:17:15] WARNING: /workspace/src/learner.cc:738: \n",
            "Parameters: { \"use_label_encoder\" } are not used.\n",
            "\n",
            "  bst.update(dtrain, iteration=i, fobj=obj)\n"
          ]
        },
        {
          "name": "stdout",
          "output_type": "stream",
          "text": [
            "\n",
            "--- Step 2: XGBoost Model ---\n",
            "Validation Accuracy: 0.9002\n"
          ]
        }
      ],
      "source": [
        "# Build the XGBoost Pipeline\n",
        "xgb_pipeline = Pipeline(steps=[\n",
        "    ('preprocessor', preprocessor),\n",
        "    ('classifier', XGBClassifier(random_state=42, use_label_encoder=False, eval_metric='mlogloss'))\n",
        "])\n",
        "\n",
        "# --- Train and Evaluate ---\n",
        "xgb_pipeline.fit(X_train, y_train)\n",
        "y_pred_xgb = xgb_pipeline.predict(X_val)\n",
        "accuracy_xgb = accuracy_score(y_val, y_pred_xgb)\n",
        "\n",
        "print(f\"\\n--- Step 2: XGBoost Model ---\")\n",
        "print(f\"Validation Accuracy: {accuracy_xgb:.4f}\")"
      ]
    },
    {
      "cell_type": "markdown",
      "metadata": {
        "id": "zX4EEl_7IEt3"
      },
      "source": [
        "###**Hyperparameter Tuning with GridSearchCV**<br>\n",
        "This step finds the best settings for your XGBoost model to maximize performance. This is the most important step for getting the highest score."
      ]
    },
    {
      "cell_type": "code",
      "execution_count": null,
      "metadata": {
        "colab": {
          "base_uri": "https://localhost:8080/"
        },
        "id": "uGxGmOKpz5iy",
        "outputId": "15e1fba2-6b52-42bc-d13c-fccd42357393"
      },
      "outputs": [
        {
          "name": "stdout",
          "output_type": "stream",
          "text": [
            "\n",
            "--- Step 3: Hyperparameter Tuning ---\n",
            "Starting search... (This may take a while)\n",
            "Fitting 3 folds for each of 6 candidates, totalling 18 fits\n"
          ]
        },
        {
          "name": "stderr",
          "output_type": "stream",
          "text": [
            "/usr/local/lib/python3.12/dist-packages/xgboost/training.py:183: UserWarning: [13:23:03] WARNING: /workspace/src/learner.cc:738: \n",
            "Parameters: { \"use_label_encoder\" } are not used.\n",
            "\n",
            "  bst.update(dtrain, iteration=i, fobj=obj)\n"
          ]
        },
        {
          "name": "stdout",
          "output_type": "stream",
          "text": [
            "\n",
            "Best parameters found: {'classifier__learning_rate': 0.1, 'classifier__max_depth': 3, 'classifier__n_estimators': 250}\n",
            "Best cross-validation accuracy: 0.9041\n"
          ]
        }
      ],
      "source": [
        "# create the pipeline\n",
        "pipeline = Pipeline(steps=[\n",
        "    ('preprocessor', preprocessor),\n",
        "    ('classifier', XGBClassifier(random_state=42, use_label_encoder=False, eval_metric='mlogloss'))\n",
        "])\n",
        "\n",
        "# Define the Parameter Grid to search\n",
        "param_grid = {\n",
        "    'classifier__n_estimators': [100, 250],  # Number of trees\n",
        "    'classifier__max_depth': [3, 5, 7],      # Depth of trees\n",
        "    'classifier__learning_rate': [0.1]\n",
        "}\n",
        "\n",
        "# --- Set up and run GridSearchCV ---\n",
        "grid_search = GridSearchCV(pipeline, param_grid, cv=3, n_jobs=-1, scoring='accuracy', verbose=2)\n",
        "print(\"\\n--- Step 3: Hyperparameter Tuning ---\")\n",
        "print(\"Starting search... (This may take a while)\")\n",
        "grid_search.fit(X, y_encoded)\n",
        "\n",
        "print(f\"\\nBest parameters found: {grid_search.best_params_}\")\n",
        "print(f\"Best cross-validation accuracy: {grid_search.best_score_:.4f}\")"
      ]
    }
  ],
  "metadata": {
    "colab": {
      "provenance": []
    },
    "kernelspec": {
      "display_name": "Python 3",
      "name": "python3"
    },
    "language_info": {
      "name": "python"
    }
  },
  "nbformat": 4,
  "nbformat_minor": 0
}
